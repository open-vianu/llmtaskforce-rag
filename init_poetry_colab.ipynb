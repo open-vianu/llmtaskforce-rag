{
  "nbformat": 4,
  "nbformat_minor": 0,
  "metadata": {
    "colab": {
      "provenance": []
    },
    "kernelspec": {
      "name": "python3",
      "display_name": "Python 3"
    },
    "language_info": {
      "name": "python"
    }
  },
  "cells": [
    {
      "cell_type": "code",
      "source": [
        "!pip install poetry\n",
        "!poetry config virtualenvs.in-project true"
      ],
      "metadata": {
        "collapsed": true,
        "id": "BSUwv4-Ii13N"
      },
      "execution_count": null,
      "outputs": []
    },
    {
      "cell_type": "code",
      "source": [
        "!git clone https://github.com/open-vianu/llmtaskforce-rag.git"
      ],
      "metadata": {
        "id": "M3yh9ufCwmSj"
      },
      "execution_count": null,
      "outputs": []
    },
    {
      "cell_type": "code",
      "source": [
        "%cd llmtaskforce-rag"
      ],
      "metadata": {
        "id": "ad8JK3agtEZU"
      },
      "execution_count": null,
      "outputs": []
    },
    {
      "cell_type": "code",
      "source": [
        "!git pull"
      ],
      "metadata": {
        "collapsed": true,
        "id": "IO6ZS1yhqW_f"
      },
      "execution_count": null,
      "outputs": []
    },
    {
      "cell_type": "code",
      "source": [
        "!poetry install --no-ansi"
      ],
      "metadata": {
        "collapsed": true,
        "id": "ZaNN8DLqs8Dl"
      },
      "execution_count": null,
      "outputs": []
    },
    {
      "cell_type": "code",
      "source": [
        "import os, sys\n",
        "\n",
        "VENV_PATH = \"/content/llmtaskforce-rag/.venv/lib/python3.11/site-packages/nvidia/\"\n",
        "LOCAL_VENV_PATH = '/content/venv' # local notebook\n",
        "os.symlink(VENV_PATH, LOCAL_VENV_PATH) # connect to directory in drive\n",
        "sys.path.insert(0, LOCAL_VENV_PATH)"
      ],
      "metadata": {
        "id": "qjJzBg38vcKf"
      },
      "execution_count": null,
      "outputs": []
    }
  ]
}